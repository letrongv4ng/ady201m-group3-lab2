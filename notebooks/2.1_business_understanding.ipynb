{
 "cells": [
  {
   "cell_type": "markdown",
   "id": "8aa113d0",
   "metadata": {},
   "source": [
    "\n",
    "# 2.1 — Hiểu vấn đề và phân tích cách giải quyết\n",
    "\n",
    "**Mục tiêu.** Xây dựng một quy trình xử lý dữ liệu để chuẩn bị cho việc trực quan hoá và phân tích dữ liệu.\n",
    "\n",
    "**Đối tượng** Người dùng cần dữ liệu trực quan cho dự báo thời tiết trong 7 ngày tới lẫn lịch sử nhiệt độ/độ ẩm/tốc độ gió trong 1 năm trước để đưa ra gợi ý cần thiết.\n",
    "\n",
    "**Từ câu hỏi đến phương pháp**\n",
    "1. *Mô Tả:* Xu hướng nhiệt độ, lượng mưa và gió trong 7 ngày tới ra sao?\n",
    "2. *Dự đoán:* Ngày nào có khả năng mưa? (Phân loại nhị phân: mưa/không mưa)\n",
    "3. *(Optional) Dự báo:* Sử dụng dự báo bên ngoài (Open-Meteo) thay vì tự huấn luyện mô hình chuỗi thời gian\n",
    "\n",
    "**Yêu cầu tối thiểu:**\n",
    "- Dữ liệu và cấu trúc chuẩn hoá cần nhất quán.\n",
    "- Biểu đồ trực quan và dễ dàng tái sử dụng.\n",
    "\n",
    "**Ràng buộc**\n",
    "- Nhóm dựa vào API công khai (Open-Meteo) và dịch vụ geocoding để lấy dữ liệu.\n"
   ]
  },
  {
   "cell_type": "markdown",
   "id": "ed5d904b",
   "metadata": {},
   "source": [
    "\n",
    "## Cấu trúc dự án\n",
    "```\n",
    "lab2_ADY201m/\n",
    "├─ data/raw/           #  dữ liệu API thô\n",
    "├─ data/interim/       # Dữ liệu hậu xử lí sơ bộ/checkpoint trước khi clean\n",
    "├─ data/processed/     # Dữ liệu post-processing, sẵn sàng cho modeling/visualizing\n",
    "├─ notebooks/          # Notebook Lab 2\n",
    "├─ reports/figures/    # Biểu đồ sinh ra từ data/processed\n",
    "└─ app/                # (Lab 3) Streamlit app - Bước deployment\n",
    "```\n"
   ]
  }
 ],
 "metadata": {
  "kernelspec": {
   "display_name": "Python 3",
   "language": "python",
   "name": "python3"
  },
  "language_info": {
   "name": "python",
   "version": "3.x"
  }
 },
 "nbformat": 4,
 "nbformat_minor": 5
}
