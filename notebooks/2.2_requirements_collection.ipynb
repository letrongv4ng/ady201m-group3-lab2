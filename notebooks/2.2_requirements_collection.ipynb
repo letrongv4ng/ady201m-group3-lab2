{
 "cells": [
  {
   "cell_type": "markdown",
   "id": "523f8dcb",
   "metadata": {},
   "source": [
    "\n",
    "# 2.2 — Từ yêu cầu dữ liệu đến thu thập dữ liệu\n",
    "\n",
    "**Yêu cầu dữ liệu(cấu trúc tối thiểu)**\n",
    "- `date` (YYYY‑MM‑DD)\n",
    "- `temp_max`, `temp_min` (nhiệt độ cao nhất/thấp nhất trong ngày, °C)\n",
    "- `precipitation_sum` (tổng lượng mưa, mm/day)\n",
    "- `wind_speed_10m_max` (tốc độ gió ở độ cao 10m, km/h)\n",
    "- `city`, `lat`, `lon` (toạ độ)\n",
    "\n",
    "Nhóm sau mỗi lần thu thập dữ liệu thô, sẽ lưu ở thư mục data/raw/ để dễ dàng truy vết giữa mỗi lần chạy.\n"
   ]
  },
  {
   "cell_type": "code",
   "execution_count": 24,
   "id": "887cf7d2",
   "metadata": {},
   "outputs": [
    {
     "name": "stdout",
     "output_type": "stream",
     "text": [
      "City: London | Horizon (days): 7\n",
      "Raw city dir: ../data/raw/london\n"
     ]
    }
   ],
   "source": [
    "# Tuỳ chỉnh thông số\n",
    "CITY = \"London\"  # Tên thành phố\n",
    "DAYS = 7          # Số ngày dự báo\n",
    "RAW_DIR = \"../data/raw\"  # Thư mục lưu dữ liệu thô\n",
    "\n",
    "# city_slug + RAW_CITY_DIR\n",
    "import re, pathlib\n",
    "city_slug = re.sub(r\"[^a-z0-9]+\", \"-\", CITY.lower()).strip(\"-\")\n",
    "RAW_CITY_DIR = f\"{RAW_DIR}/{city_slug}\"\n",
    "pathlib.Path(RAW_CITY_DIR).mkdir(parents=True, exist_ok=True)\n",
    "\n",
    "print(\"City:\", CITY, \"| Horizon (days):\", DAYS)\n",
    "print(\"Raw city dir:\", RAW_CITY_DIR)"
   ]
  },
  {
   "cell_type": "code",
   "execution_count": 25,
   "id": "7e2833ad",
   "metadata": {},
   "outputs": [
    {
     "name": "stdout",
     "output_type": "stream",
     "text": [
      "Saved active config -> c:\\Users\\Letrongvangggg\\Desktop\\Lab2_ADY201m\\.lab2_config.json\n"
     ]
    }
   ],
   "source": [
    "# --- Persist config for other notebooks ---\n",
    "import json, os\n",
    "CONFIG_PATH = \"../.lab2_config.json\"\n",
    "\n",
    "cfg = {\n",
    "    \"CITY\": CITY,\n",
    "    \"city_slug\": city_slug,\n",
    "    \"RAW_DIR\": RAW_DIR,\n",
    "    \"RAW_CITY_DIR\": RAW_CITY_DIR,\n",
    "    \"DAYS\": DAYS\n",
    "}\n",
    "with open(CONFIG_PATH, \"w\", encoding=\"utf-8\") as f:\n",
    "    json.dump(cfg, f, ensure_ascii=False, indent=2)\n",
    "\n",
    "print(\"Saved active config ->\", os.path.abspath(CONFIG_PATH))\n"
   ]
  },
  {
   "cell_type": "code",
   "execution_count": 26,
   "id": "0b44e0e6",
   "metadata": {},
   "outputs": [
    {
     "data": {
      "text/html": [
       "<div>\n",
       "<style scoped>\n",
       "    .dataframe tbody tr th:only-of-type {\n",
       "        vertical-align: middle;\n",
       "    }\n",
       "\n",
       "    .dataframe tbody tr th {\n",
       "        vertical-align: top;\n",
       "    }\n",
       "\n",
       "    .dataframe thead th {\n",
       "        text-align: right;\n",
       "    }\n",
       "</style>\n",
       "<table border=\"1\" class=\"dataframe\">\n",
       "  <thead>\n",
       "    <tr style=\"text-align: right;\">\n",
       "      <th></th>\n",
       "      <th>date</th>\n",
       "      <th>temp_max</th>\n",
       "      <th>temp_min</th>\n",
       "      <th>precipitation_sum</th>\n",
       "      <th>wind_speed_10m_max</th>\n",
       "      <th>city</th>\n",
       "      <th>lat</th>\n",
       "      <th>lon</th>\n",
       "      <th>source</th>\n",
       "    </tr>\n",
       "  </thead>\n",
       "  <tbody>\n",
       "    <tr>\n",
       "      <th>0</th>\n",
       "      <td>2025-09-20</td>\n",
       "      <td>20.5</td>\n",
       "      <td>13.7</td>\n",
       "      <td>0.3</td>\n",
       "      <td>25.9</td>\n",
       "      <td>London</td>\n",
       "      <td>51.50853</td>\n",
       "      <td>-0.12574</td>\n",
       "      <td>open-meteo</td>\n",
       "    </tr>\n",
       "    <tr>\n",
       "      <th>1</th>\n",
       "      <td>2025-09-21</td>\n",
       "      <td>15.7</td>\n",
       "      <td>10.3</td>\n",
       "      <td>0.0</td>\n",
       "      <td>21.6</td>\n",
       "      <td>London</td>\n",
       "      <td>51.50853</td>\n",
       "      <td>-0.12574</td>\n",
       "      <td>open-meteo</td>\n",
       "    </tr>\n",
       "    <tr>\n",
       "      <th>2</th>\n",
       "      <td>2025-09-22</td>\n",
       "      <td>16.9</td>\n",
       "      <td>9.3</td>\n",
       "      <td>0.0</td>\n",
       "      <td>17.9</td>\n",
       "      <td>London</td>\n",
       "      <td>51.50853</td>\n",
       "      <td>-0.12574</td>\n",
       "      <td>open-meteo</td>\n",
       "    </tr>\n",
       "    <tr>\n",
       "      <th>3</th>\n",
       "      <td>2025-09-23</td>\n",
       "      <td>15.5</td>\n",
       "      <td>7.3</td>\n",
       "      <td>0.9</td>\n",
       "      <td>13.9</td>\n",
       "      <td>London</td>\n",
       "      <td>51.50853</td>\n",
       "      <td>-0.12574</td>\n",
       "      <td>open-meteo</td>\n",
       "    </tr>\n",
       "    <tr>\n",
       "      <th>4</th>\n",
       "      <td>2025-09-24</td>\n",
       "      <td>17.5</td>\n",
       "      <td>9.8</td>\n",
       "      <td>0.0</td>\n",
       "      <td>13.4</td>\n",
       "      <td>London</td>\n",
       "      <td>51.50853</td>\n",
       "      <td>-0.12574</td>\n",
       "      <td>open-meteo</td>\n",
       "    </tr>\n",
       "  </tbody>\n",
       "</table>\n",
       "</div>"
      ],
      "text/plain": [
       "         date  temp_max  temp_min  precipitation_sum  wind_speed_10m_max  \\\n",
       "0  2025-09-20      20.5      13.7                0.3                25.9   \n",
       "1  2025-09-21      15.7      10.3                0.0                21.6   \n",
       "2  2025-09-22      16.9       9.3                0.0                17.9   \n",
       "3  2025-09-23      15.5       7.3                0.9                13.9   \n",
       "4  2025-09-24      17.5       9.8                0.0                13.4   \n",
       "\n",
       "     city       lat      lon      source  \n",
       "0  London  51.50853 -0.12574  open-meteo  \n",
       "1  London  51.50853 -0.12574  open-meteo  \n",
       "2  London  51.50853 -0.12574  open-meteo  \n",
       "3  London  51.50853 -0.12574  open-meteo  \n",
       "4  London  51.50853 -0.12574  open-meteo  "
      ]
     },
     "execution_count": 26,
     "metadata": {},
     "output_type": "execute_result"
    }
   ],
   "source": [
    "import os, json, datetime, pandas as pd, pathlib, sys\n",
    "\n",
    "# ĐÃ tạo RAW_CITY_DIR ở cell trước\n",
    "\n",
    "def fetch_open_meteo(city: str, days: int) -> pd.DataFrame:\n",
    "    import requests, pandas as pd\n",
    "    try:\n",
    "        geo = requests.get(\n",
    "            \"https://geocoding-api.open-meteo.com/v1/search\",\n",
    "            params={\"name\": city, \"count\": 1, \"language\": \"en\", \"format\": \"json\"},\n",
    "            timeout=10\n",
    "        ).json()\n",
    "        if not geo.get(\"results\"):\n",
    "            raise RuntimeError(\"City not found in geocoding API\")\n",
    "        lat, lon = geo[\"results\"][0][\"latitude\"], geo[\"results\"][0][\"longitude\"]\n",
    "\n",
    "        fc = requests.get(\n",
    "            \"https://api.open-meteo.com/v1/forecast\",\n",
    "            params={\n",
    "                \"latitude\": lat,\n",
    "                \"longitude\": lon,\n",
    "                \"daily\": [\n",
    "                    \"temperature_2m_max\",\"temperature_2m_min\",\n",
    "                    \"precipitation_sum\",\"wind_speed_10m_max\"\n",
    "                ],\n",
    "                \"forecast_days\": days,\n",
    "                \"timezone\": \"auto\"\n",
    "            },\n",
    "            timeout=10\n",
    "        ).json()\n",
    "        daily = fc[\"daily\"]\n",
    "        df = pd.DataFrame({\n",
    "            \"date\": daily[\"time\"],\n",
    "            \"temp_max\": daily[\"temperature_2m_max\"],\n",
    "            \"temp_min\": daily[\"temperature_2m_min\"],\n",
    "            \"precipitation_sum\": daily[\"precipitation_sum\"],\n",
    "            \"wind_speed_10m_max\": daily[\"wind_speed_10m_max\"],\n",
    "        })\n",
    "        df[\"city\"], df[\"lat\"], df[\"lon\"], df[\"source\"] = city, lat, lon, \"open-meteo\"\n",
    "        return df\n",
    "    except Exception as e:\n",
    "        print(\"Error fetching data:\", e)\n",
    "        sys.exit(1)\n",
    "\n",
    "# Fetch\n",
    "df_raw = fetch_open_meteo(CITY, DAYS)\n",
    "df_raw.head()"
   ]
  },
  {
   "cell_type": "code",
   "execution_count": 27,
   "id": "a1ada0fe",
   "metadata": {},
   "outputs": [
    {
     "name": "stdout",
     "output_type": "stream",
     "text": [
      "Saved snapshot -> ../data/raw/london/forecast_london_7d_20250921_0312.csv\n"
     ]
    }
   ],
   "source": [
    "from datetime import datetime\n",
    "from pathlib import Path\n",
    "\n",
    "Path(RAW_CITY_DIR).mkdir(parents=True, exist_ok=True)\n",
    "\n",
    "dt = datetime.now().strftime(\"%Y%m%d_%H%M\")\n",
    "out_path = f\"{RAW_CITY_DIR}/forecast_{city_slug}_{DAYS}d_{dt}.csv\"  \n",
    "\n",
    "df_raw.to_csv(out_path, index=False)\n",
    "print(\"Saved snapshot ->\", out_path)"
   ]
  },
  {
   "cell_type": "markdown",
   "id": "c088611d",
   "metadata": {},
   "source": [
    "\n",
    "**Notes.**\n",
    "- Luôn lưu timestamp để dễ dàng truy xuất sau này.\n",
    "- Sẽ viết fallback trong tương lai nếu không có kết nối internet.\n"
   ]
  }
 ],
 "metadata": {
  "kernelspec": {
   "display_name": "Python 3",
   "language": "python",
   "name": "python3"
  },
  "language_info": {
   "codemirror_mode": {
    "name": "ipython",
    "version": 3
   },
   "file_extension": ".py",
   "mimetype": "text/x-python",
   "name": "python",
   "nbconvert_exporter": "python",
   "pygments_lexer": "ipython3",
   "version": "3.13.6"
  }
 },
 "nbformat": 4,
 "nbformat_minor": 5
}
