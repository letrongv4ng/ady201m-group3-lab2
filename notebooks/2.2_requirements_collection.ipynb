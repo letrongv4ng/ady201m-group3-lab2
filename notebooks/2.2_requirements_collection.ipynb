{
 "cells": [
  {
   "cell_type": "markdown",
   "id": "523f8dcb",
   "metadata": {},
   "source": [
    "\n",
    "# 2.2 — Từ yêu cầu dữ liệu đến thu thập dữ liệu\n",
    "\n",
    "**Yêu cầu dữ liệu(cấu trúc tối thiểu)**\n",
    "- `date` (YYYY‑MM‑DD)\n",
    "- `temp_max`, `temp_min` (nhiệt độ cao nhất/thấp nhất trong ngày, °C)\n",
    "- `precipitation_sum` (tổng lượng mưa, mm/day)\n",
    "- `wind_speed_10m_max` (tốc độ gió ở độ cao 10m, km/h)\n",
    "- `city`, `lat`, `lon` (toạ độ)\n",
    "\n",
    "Nhóm sau mỗi lần thu thập dữ liệu thô, sẽ lưu ở thư mục data/raw/ để dễ dàng truy vết giữa mỗi lần chạy.\n"
   ]
  },
  {
   "cell_type": "code",
   "execution_count": null,
   "id": "887cf7d2",
   "metadata": {},
   "outputs": [],
   "source": [
    "# Tuỳ chỉnh thông số\n",
    "CITY = \"Hanoi\"  # Tên thành phố\n",
    "DAYS = 7          # Số ngày dự báo, tối đa 7\n",
    "RAW_DIR = \"../data/raw\"  # Thư mục lưu dữ liệu thô\n",
    "\n",
    "# city_slug và RAW_CITY_DIR\n",
    "import re, pathlib\n",
    "city_slug = re.sub(r\"[^a-z0-9]+\", \"-\", CITY.lower()).strip(\"-\")\n",
    "RAW_CITY_DIR = f\"{RAW_DIR}/{city_slug}\"\n",
    "pathlib.Path(RAW_CITY_DIR).mkdir(parents=True, exist_ok=True)\n",
    "\n",
    "print(\"City:\", CITY, \"| Horizon (days):\", DAYS)\n",
    "print(\"Raw city dir:\", RAW_CITY_DIR)"
   ]
  },
  {
   "cell_type": "code",
   "execution_count": null,
   "id": "7e2833ad",
   "metadata": {},
   "outputs": [],
   "source": [
    "import json, os\n",
    "CONFIG_PATH = \"../.lab2_config.json\"\n",
    "\n",
    "cfg = {\n",
    "    \"CITY\": CITY,\n",
    "    \"city_slug\": city_slug,\n",
    "    \"RAW_DIR\": RAW_DIR,\n",
    "    \"RAW_CITY_DIR\": RAW_CITY_DIR,\n",
    "    \"DAYS\": DAYS\n",
    "}\n",
    "with open(CONFIG_PATH, \"w\", encoding=\"utf-8\") as f:\n",
    "    json.dump(cfg, f, ensure_ascii=False, indent=2)\n",
    "\n",
    "print(\"Saved active config ->\", os.path.abspath(CONFIG_PATH))\n"
   ]
  },
  {
   "cell_type": "code",
   "execution_count": null,
   "id": "0b44e0e6",
   "metadata": {},
   "outputs": [],
   "source": [
    "import os, json, datetime, pandas as pd, pathlib, sys\n",
    "\n",
    "# ĐÃ tạo RAW_CITY_DIR ở cell trước\n",
    "\n",
    "def fetch_open_meteo(city: str, days: int) -> pd.DataFrame:\n",
    "    import requests, pandas as pd\n",
    "    try:\n",
    "        geo = requests.get(\n",
    "            \"https://geocoding-api.open-meteo.com/v1/search\",\n",
    "            params={\"name\": city, \"count\": 1, \"language\": \"en\", \"format\": \"json\"},\n",
    "            timeout=10\n",
    "        ).json()\n",
    "        if not geo.get(\"results\"):\n",
    "            raise RuntimeError(\"City not found in geocoding API\")\n",
    "        lat, lon = geo[\"results\"][0][\"latitude\"], geo[\"results\"][0][\"longitude\"]\n",
    "\n",
    "        fc = requests.get(\n",
    "            \"https://api.open-meteo.com/v1/forecast\",\n",
    "            params={\n",
    "                \"latitude\": lat,\n",
    "                \"longitude\": lon,\n",
    "                \"daily\": [\n",
    "                    \"temperature_2m_max\",\"temperature_2m_min\",\n",
    "                    \"precipitation_sum\",\"wind_speed_10m_max\"\n",
    "                ],\n",
    "                \"forecast_days\": days,\n",
    "                \"timezone\": \"auto\"\n",
    "            },\n",
    "            timeout=10\n",
    "        ).json()\n",
    "        daily = fc[\"daily\"]\n",
    "        df = pd.DataFrame({\n",
    "            \"date\": daily[\"time\"],\n",
    "            \"temp_max\": daily[\"temperature_2m_max\"],\n",
    "            \"temp_min\": daily[\"temperature_2m_min\"],\n",
    "            \"precipitation_sum\": daily[\"precipitation_sum\"],\n",
    "            \"wind_speed_10m_max\": daily[\"wind_speed_10m_max\"],\n",
    "        })\n",
    "        df[\"city\"], df[\"lat\"], df[\"lon\"], df[\"source\"] = city, lat, lon, \"open-meteo\"\n",
    "        return df\n",
    "    except Exception as e:\n",
    "        print(\"Error fetching data:\", e)\n",
    "        sys.exit(1)\n",
    "\n",
    "# Fetch\n",
    "df_raw = fetch_open_meteo(CITY, DAYS)\n",
    "df_raw.head()"
   ]
  },
  {
   "cell_type": "code",
   "execution_count": null,
   "id": "a1ada0fe",
   "metadata": {},
   "outputs": [],
   "source": [
    "from datetime import datetime\n",
    "from pathlib import Path\n",
    "\n",
    "Path(RAW_CITY_DIR).mkdir(parents=True, exist_ok=True)\n",
    "\n",
    "dt = datetime.now().strftime(\"%Y%m%d_%H%M\")\n",
    "out_path = f\"{RAW_CITY_DIR}/forecast_{city_slug}_{DAYS}d_{dt}.csv\"  \n",
    "\n",
    "df_raw.to_csv(out_path, index=False)\n",
    "print(\"Saved snapshot ->\", out_path)"
   ]
  },
  {
   "cell_type": "markdown",
   "id": "c088611d",
   "metadata": {},
   "source": [
    "\n",
    "**Notes.**\n",
    "- Luôn lưu timestamp để dễ dàng truy xuất sau này.\n",
    "- Sẽ viết fallback trong tương lai nếu không có kết nối internet.\n"
   ]
  }
 ],
 "metadata": {
  "kernelspec": {
   "display_name": "Python 3",
   "language": "python",
   "name": "python3"
  },
  "language_info": {
   "codemirror_mode": {
    "name": "ipython",
    "version": 3
   },
   "file_extension": ".py",
   "mimetype": "text/x-python",
   "name": "python",
   "nbconvert_exporter": "python",
   "pygments_lexer": "ipython3",
   "version": "3.13.6"
  }
 },
 "nbformat": 4,
 "nbformat_minor": 5
}
